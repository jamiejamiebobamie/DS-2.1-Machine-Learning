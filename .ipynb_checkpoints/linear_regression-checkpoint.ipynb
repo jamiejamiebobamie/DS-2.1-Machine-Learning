{
 "cells": [
  {
   "cell_type": "code",
   "execution_count": 11,
   "metadata": {},
   "outputs": [
    {
     "name": "stdout",
     "output_type": "stream",
     "text": [
      "[0.25163494 0.79880123]\n",
      " \n",
      "0.2516 x + 0.7988\n",
      "[ 2.167  3.1    3.3    4.168  4.4    5.313  5.5    5.654  6.182  6.71\n",
      "  6.93   7.042  7.59   7.997  9.27   9.779 10.791]\n"
     ]
    },
    {
     "data": {
      "image/png": "[encoded data removed]",
      "text/plain": [
       "<Figure size 432x288 with 1 Axes>"
      ]
     },
     "metadata": {
      "needs_background": "light"
     },
     "output_type": "display_data"
    },
    {
     "name": "stdout",
     "output_type": "stream",
     "text": [
      "[[0.25163494]]\n",
      "[0.79880123]\n"
     ]
    }
   ],
   "source": [
    "import numpy as np\n",
    "import matplotlib.pyplot as plt\n",
    "from sklearn.linear_model import LinearRegression\n",
    "\n",
    "np.random.seed(seed=0)\n",
    "\n",
    "X = np.array([3.3,4.4,5.5,6.71,6.93,4.168,9.779,6.182,7.59,2.167,\n",
    "                         7.042,10.791,5.313,7.997,5.654,9.27,3.1])\n",
    "Y = np.array([1.7,2.76,2.09,3.19,1.694,1.573,3.366,2.596,2.53,1.221,\n",
    "                         2.827,3.465,1.65,2.904,2.42,2.94,1.3]) \n",
    "\n",
    "plt.scatter(X, Y)\n",
    "print(np.polyfit(X, Y, 1))\n",
    "print(np.poly1d(np.polyfit(X, Y, 1)))\n",
    "print(np.unique(X))\n",
    "plt.plot(np.unique(X), np.poly1d(np.polyfit(X, Y, 1))(np.unique(X)), color='red', linewidth=5)\n",
    "plt.show()\n",
    "\n",
    "reg = LinearRegression().fit(X.reshape(-1, 1), Y.reshape(-1, 1))\n",
    "\n",
    "print(reg.coef_)\n",
    "\n",
    "print(reg.intercept_)\n"
   ]
  },
  {
   "cell_type": "code",
   "execution_count": 13,
   "metadata": {},
   "outputs": [
    {
     "data": {
      "image/png": "[encoded data removed]",
      "text/plain": [
       "<Figure size 432x288 with 1 Axes>"
      ]
     },
     "metadata": {
      "needs_background": "light"
     },
     "output_type": "display_data"
    },
    {
     "name": "stdout",
     "output_type": "stream",
     "text": [
      "0.3340064573020295\n"
     ]
    }
   ],
   "source": [
    "#Ikey Benzaken's code below:\n",
    "\n",
    "M = sum(Y)/sum(X)\n",
    "predicted_y_values = list(map(lambda x: M*x + 0.3, X))\n",
    "plt.scatter(X, Y)\n",
    "plt.plot(X, predicted_y_values)\n",
    "\n",
    "error = sum([ (i-j)**2 for i, j in zip(Y, predicted_y_values) ]) / len(Y)\n",
    "\n",
    "plt.show()\n",
    "print(error)"
   ]
  },
  {
   "cell_type": "code",
   "execution_count": 21,
   "metadata": {},
   "outputs": [
    {
     "data": {
      "image/png": "[encoded data removed]",
      "text/plain": [
       "<Figure size 432x288 with 1 Axes>"
      ]
     },
     "metadata": {
      "needs_background": "light"
     },
     "output_type": "display_data"
    },
    {
     "name": "stdout",
     "output_type": "stream",
     "text": [
      "0.24963145730202954\n"
     ]
    }
   ],
   "source": [
    "#Ikey Benzaken's code below:\n",
    "\n",
    "M = sum(Y)/sum(X)\n",
    "predicted_y_values = list(map(lambda x: M*x + .075, X))\n",
    "plt.scatter(X, Y)\n",
    "plt.plot(X, predicted_y_values)\n",
    "\n",
    "error = sum([ (i-j)**2 for i, j in zip(Y, predicted_y_values) ]) / len(Y)\n",
    "\n",
    "plt.show()\n",
    "print(error)"
   ]
  },
  {
   "cell_type": "code",
   "execution_count": 3,
   "metadata": {},
   "outputs": [
    {
     "name": "stdout",
     "output_type": "stream",
     "text": [
      "2.9388893694594085\n",
      "[ 0.04576465  0.18853002 -0.00103749]\n",
      "[12.20266701]\n"
     ]
    }
   ],
   "source": [
    "import pandas as pd\n",
    "from sklearn.linear_model import LinearRegression\n",
    "import numpy as np\n",
    "\n",
    "data = pd.read_csv('datasets/Advertising.csv')\n",
    "# create X and y\n",
    "feature_cols = ['TV', 'radio', 'newspaper']\n",
    "X = data[feature_cols]\n",
    "y = data.sales\n",
    "\n",
    "# follow the usual sklearn pattern: import, instantiate, fit\n",
    "\n",
    "lm = LinearRegression()\n",
    "lm.fit(X, y)\n",
    "\n",
    "# print intercept and coefficients\n",
    "print(lm.intercept_)\n",
    "print(lm.coef_)\n",
    "\n",
    "print(lm.predict([[100, 25, 25]]))"
   ]
  },
  {
   "cell_type": "code",
   "execution_count": 4,
   "metadata": {},
   "outputs": [
    {
     "data": {
      "text/plain": [
       "Intercept    2.938889\n",
       "TV           0.045765\n",
       "radio        0.188530\n",
       "newspaper   -0.001037\n",
       "dtype: float64"
      ]
     },
     "execution_count": 4,
     "metadata": {},
     "output_type": "execute_result"
    }
   ],
   "source": [
    "import statsmodels.formula.api as smf\n",
    "\n",
    "# create a fitted model with all three features\n",
    "lm = smf.ols(formula='sales ~ TV + radio + newspaper', data=data).fit()\n",
    "\n",
    "# print the coefficients\n",
    "lm.params"
   ]
  },
  {
   "cell_type": "code",
   "execution_count": null,
   "metadata": {},
   "outputs": [],
   "source": []
  }
 ],
 "metadata": {
  "kernelspec": {
   "display_name": "Python 3",
   "language": "python",
   "name": "python3"
  },
  "language_info": {
   "codemirror_mode": {
    "name": "ipython",
    "version": 3
   },
   "file_extension": ".py",
   "mimetype": "text/x-python",
   "name": "python",
   "nbconvert_exporter": "python",
   "pygments_lexer": "ipython3",
   "version": "3.7.1"
  }
 },
 "nbformat": 4,
 "nbformat_minor": 2
}
